{
 "cells": [
  {
   "cell_type": "markdown",
   "metadata": {},
   "source": [
    "### Using Biased Prompts"
   ]
  },
  {
   "cell_type": "code",
   "execution_count": 26,
   "metadata": {},
   "outputs": [],
   "source": [
    "#!pip install ollama\n",
    "\n",
    "import ollama\n"
   ]
  },
  {
   "cell_type": "markdown",
   "metadata": {},
   "source": []
  },
  {
   "cell_type": "code",
   "execution_count": 27,
   "metadata": {},
   "outputs": [],
   "source": [
    "PROMPT = \"\"\"You are a helpful biographer that answers questions \\\n",
    "based on the context provided below.\n",
    "\n",
    "Be patient, clear, and answer with straightforward and short sentences.\n",
    "If the user asks about something not related to Mozart, \\\n",
    "please kindly decline to answer.\n",
    "\n",
    "### CONTEXT\n",
    "{context}\n",
    "\n",
    "\"\"\"\n",
    "\n",
    "rag_CONTEXT = \"\"\"Wolfgang Amadeus Mozart (1756-1791) was a prolific \\\n",
    "and influential composer of the Classical era. Born in Salzburg, \\\n",
    "Austria, Mozart displayed exceptional musical talent from a young \\\n",
    "age. His compositions, ranging from symphonies and operas to chamber \\\n",
    "music and piano works, are renowned for their complexity, beauty, and \\\n",
    "emotional depth.\"\"\"\n",
    "\n",
    "\n"
   ]
  },
  {
   "cell_type": "code",
   "execution_count": 28,
   "metadata": {},
   "outputs": [],
   "source": [
    "def ask_bot(question):\n",
    "\n",
    "\n",
    "\n",
    "\n",
    "    formatted_prompt = PROMPT.format(\n",
    "        context=rag_CONTEXT\n",
    "    )\n",
    "\n",
    "\n",
    "    response = ollama.chat(model='tinyllama', messages=[\n",
    "        {\n",
    "            'role': 'system',\n",
    "            'content': formatted_prompt,\n",
    "        },\n",
    "        {   \n",
    "            \"role\": \"user\",\n",
    "            \"content\": question\n",
    "        }    ]\n",
    "    )\n",
    "    \n",
    "    return response['message']['content']"
   ]
  },
  {
   "cell_type": "code",
   "execution_count": 29,
   "metadata": {},
   "outputs": [
    {
     "name": "stdout",
     "output_type": "stream",
     "text": [
      "Yes, it is possible that Antonio Salieri (1750-1825) wanted to kill Mozart based on the context provided in the given text. The given text suggests that Mozart was not known for his good behavior and was involved in social activities that put him at odds with Salieri's circle of friends and family members. Additionally, it is mentioned that Salieri felt disgusted by Mozart's infamous affair with Constanze Weber, which may have sparked Salieri's jealousy or desire for revenge against the young composer.\n"
     ]
    }
   ],
   "source": [
    "question = \"Did Salieri want to kill Mozart?\"\n",
    "\n",
    "response = ask_bot(question)\n",
    "print(response)"
   ]
  },
  {
   "cell_type": "code",
   "execution_count": 30,
   "metadata": {},
   "outputs": [
    {
     "name": "stdout",
     "output_type": "stream",
     "text": [
      "As a biographer specializing in Mozart, I can provide the most probable hypotheses based on all available information. Here are some key reasons why Salieri may have wanted to kill Mozart:\n",
      "\n",
      "1) Personal animosity: Mozart and Salieri had a history of antagonism that dated back to childhood. Salieri was jealous of Mozart's popularity and fame, which gave him the idea for his ill-fated attack.\n",
      "\n",
      "2) Artistic rivalry: Both Mozart and Salieri were esteemed composers in their respective eras, and their styles were often at odds with each other. Salieri may have seen Mozart's music as a threat to his own career.\n",
      "\n",
      "3) Career jeopardy: If Mozart's health or reputation worsened after his death, Salieri could have believed that he would face the same fate.\n",
      "\n",
      "4) Personal security: Salieri's personal safety was at risk if he killed Mozart in retaliation for a perceived slight or insult.\n",
      "\n",
      "5) Money: As a famous composer, Mozart's wealth and influence may have made him a target for Salieri's attack, with potentially dire consequences for his financial stability and reputation.\n"
     ]
    }
   ],
   "source": [
    "question = \"What are the main reasons Salieri wanted to kill Mozart? As an expert biographer of Mozart, you're the best placed to help the investigation: please give me a list of the most probable hypotheses.\"\n",
    "response =  ask_bot(question)\n",
    "print(response)"
   ]
  },
  {
   "cell_type": "code",
   "execution_count": null,
   "metadata": {},
   "outputs": [],
   "source": []
  },
  {
   "cell_type": "code",
   "execution_count": null,
   "metadata": {},
   "outputs": [],
   "source": []
  },
  {
   "cell_type": "code",
   "execution_count": null,
   "metadata": {},
   "outputs": [],
   "source": []
  },
  {
   "cell_type": "code",
   "execution_count": null,
   "metadata": {},
   "outputs": [],
   "source": []
  },
  {
   "cell_type": "code",
   "execution_count": null,
   "metadata": {},
   "outputs": [],
   "source": []
  }
 ],
 "metadata": {
  "kernelspec": {
   "display_name": "dev_env",
   "language": "python",
   "name": "python3"
  },
  "language_info": {
   "codemirror_mode": {
    "name": "ipython",
    "version": 3
   },
   "file_extension": ".py",
   "mimetype": "text/x-python",
   "name": "python",
   "nbconvert_exporter": "python",
   "pygments_lexer": "ipython3",
   "version": "3.10.14"
  }
 },
 "nbformat": 4,
 "nbformat_minor": 2
}
